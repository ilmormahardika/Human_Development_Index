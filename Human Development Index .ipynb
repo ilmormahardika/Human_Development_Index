{
 "cells": [
  {
   "cell_type": "code",
   "execution_count": 53,
   "id": "724e94b1",
   "metadata": {},
   "outputs": [],
   "source": [
    "import pandas as pd\n",
    "import numpy as np\n",
    "\n",
    "import matplotlib.pyplot as plt\n",
    "%matplotlib inline\n",
    "import seaborn as sns\n",
    "import plotly.express as ex\n",
    "import plotly.graph_objs as go\n",
    "import plotly.figure_factory as ff\n",
    "from plotly.subplots import make_subplots\n",
    "import plotly.offline as pyo\n",
    "from sklearn. linear_model import LinearRegression\n",
    "from sklearn.model_selection import train_test_split"
   ]
  },
  {
   "cell_type": "code",
   "execution_count": 54,
   "id": "7bf94e7a",
   "metadata": {},
   "outputs": [],
   "source": [
    "df=pd.read_csv('HDI.csv')"
   ]
  },
  {
   "cell_type": "code",
   "execution_count": 55,
   "id": "47da1275",
   "metadata": {},
   "outputs": [
    {
     "data": {
      "text/html": [
       "<div>\n",
       "<style scoped>\n",
       "    .dataframe tbody tr th:only-of-type {\n",
       "        vertical-align: middle;\n",
       "    }\n",
       "\n",
       "    .dataframe tbody tr th {\n",
       "        vertical-align: top;\n",
       "    }\n",
       "\n",
       "    .dataframe thead th {\n",
       "        text-align: right;\n",
       "    }\n",
       "</style>\n",
       "<table border=\"1\" class=\"dataframe\">\n",
       "  <thead>\n",
       "    <tr style=\"text-align: right;\">\n",
       "      <th></th>\n",
       "      <th>Stunting Management</th>\n",
       "      <th>Poverty</th>\n",
       "      <th>Happiness Index</th>\n",
       "      <th>HDI</th>\n",
       "    </tr>\n",
       "  </thead>\n",
       "  <tbody>\n",
       "    <tr>\n",
       "      <th>0</th>\n",
       "      <td>61.95</td>\n",
       "      <td>806.82</td>\n",
       "      <td>71.24</td>\n",
       "      <td>72.18</td>\n",
       "    </tr>\n",
       "    <tr>\n",
       "      <th>1</th>\n",
       "      <td>58.56</td>\n",
       "      <td>1268.19</td>\n",
       "      <td>70.57</td>\n",
       "      <td>72.00</td>\n",
       "    </tr>\n",
       "    <tr>\n",
       "      <th>2</th>\n",
       "      <td>63.97</td>\n",
       "      <td>335.21</td>\n",
       "      <td>71.34</td>\n",
       "      <td>72.65</td>\n",
       "    </tr>\n",
       "    <tr>\n",
       "      <th>3</th>\n",
       "      <td>60.04</td>\n",
       "      <td>485.03</td>\n",
       "      <td>71.80</td>\n",
       "      <td>72.94</td>\n",
       "    </tr>\n",
       "    <tr>\n",
       "      <th>4</th>\n",
       "      <td>61.03</td>\n",
       "      <td>279.37</td>\n",
       "      <td>75.17</td>\n",
       "      <td>71.63</td>\n",
       "    </tr>\n",
       "  </tbody>\n",
       "</table>\n",
       "</div>"
      ],
      "text/plain": [
       "   Stunting Management  Poverty  Happiness Index    HDI\n",
       "0                61.95   806.82            71.24  72.18\n",
       "1                58.56  1268.19            70.57  72.00\n",
       "2                63.97   335.21            71.34  72.65\n",
       "3                60.04   485.03            71.80  72.94\n",
       "4                61.03   279.37            75.17  71.63"
      ]
     },
     "execution_count": 55,
     "metadata": {},
     "output_type": "execute_result"
    }
   ],
   "source": [
    "df.head()"
   ]
  },
  {
   "cell_type": "code",
   "execution_count": 56,
   "id": "0e5b22e8",
   "metadata": {},
   "outputs": [
    {
     "data": {
      "text/html": [
       "<div>\n",
       "<style scoped>\n",
       "    .dataframe tbody tr th:only-of-type {\n",
       "        vertical-align: middle;\n",
       "    }\n",
       "\n",
       "    .dataframe tbody tr th {\n",
       "        vertical-align: top;\n",
       "    }\n",
       "\n",
       "    .dataframe thead th {\n",
       "        text-align: right;\n",
       "    }\n",
       "</style>\n",
       "<table border=\"1\" class=\"dataframe\">\n",
       "  <thead>\n",
       "    <tr style=\"text-align: right;\">\n",
       "      <th></th>\n",
       "      <th>Stunting Management</th>\n",
       "      <th>Poverty</th>\n",
       "      <th>Happiness Index</th>\n",
       "      <th>HDI</th>\n",
       "    </tr>\n",
       "  </thead>\n",
       "  <tbody>\n",
       "    <tr>\n",
       "      <th>count</th>\n",
       "      <td>34.000000</td>\n",
       "      <td>34.000000</td>\n",
       "      <td>34.000000</td>\n",
       "      <td>34.000000</td>\n",
       "    </tr>\n",
       "    <tr>\n",
       "      <th>mean</th>\n",
       "      <td>63.209412</td>\n",
       "      <td>769.445882</td>\n",
       "      <td>72.610588</td>\n",
       "      <td>71.361176</td>\n",
       "    </tr>\n",
       "    <tr>\n",
       "      <th>std</th>\n",
       "      <td>6.900006</td>\n",
       "      <td>1082.365883</td>\n",
       "      <td>2.097603</td>\n",
       "      <td>3.937439</td>\n",
       "    </tr>\n",
       "    <tr>\n",
       "      <th>min</th>\n",
       "      <td>41.700000</td>\n",
       "      <td>49.460000</td>\n",
       "      <td>68.080000</td>\n",
       "      <td>60.620000</td>\n",
       "    </tr>\n",
       "    <tr>\n",
       "      <th>25%</th>\n",
       "      <td>60.267500</td>\n",
       "      <td>198.195000</td>\n",
       "      <td>71.265000</td>\n",
       "      <td>69.730000</td>\n",
       "    </tr>\n",
       "    <tr>\n",
       "      <th>50%</th>\n",
       "      <td>64.005000</td>\n",
       "      <td>342.730000</td>\n",
       "      <td>72.430000</td>\n",
       "      <td>71.650000</td>\n",
       "    </tr>\n",
       "    <tr>\n",
       "      <th>75%</th>\n",
       "      <td>66.217500</td>\n",
       "      <td>812.220000</td>\n",
       "      <td>74.340000</td>\n",
       "      <td>72.600000</td>\n",
       "    </tr>\n",
       "    <tr>\n",
       "      <th>max</th>\n",
       "      <td>79.940000</td>\n",
       "      <td>4181.290000</td>\n",
       "      <td>76.340000</td>\n",
       "      <td>81.110000</td>\n",
       "    </tr>\n",
       "  </tbody>\n",
       "</table>\n",
       "</div>"
      ],
      "text/plain": [
       "       Stunting Management      Poverty  Happiness Index        HDI\n",
       "count            34.000000    34.000000        34.000000  34.000000\n",
       "mean             63.209412   769.445882        72.610588  71.361176\n",
       "std               6.900006  1082.365883         2.097603   3.937439\n",
       "min              41.700000    49.460000        68.080000  60.620000\n",
       "25%              60.267500   198.195000        71.265000  69.730000\n",
       "50%              64.005000   342.730000        72.430000  71.650000\n",
       "75%              66.217500   812.220000        74.340000  72.600000\n",
       "max              79.940000  4181.290000        76.340000  81.110000"
      ]
     },
     "execution_count": 56,
     "metadata": {},
     "output_type": "execute_result"
    }
   ],
   "source": [
    "df.describe()"
   ]
  },
  {
   "cell_type": "code",
   "execution_count": 57,
   "id": "e606022f",
   "metadata": {},
   "outputs": [
    {
     "data": {
      "text/plain": [
       "Stunting Management    0\n",
       "Poverty                0\n",
       "Happiness Index        0\n",
       "HDI                    0\n",
       "dtype: int64"
      ]
     },
     "execution_count": 57,
     "metadata": {},
     "output_type": "execute_result"
    }
   ],
   "source": [
    "df.isnull(). sum()"
   ]
  },
  {
   "cell_type": "code",
   "execution_count": 58,
   "id": "6512caf1",
   "metadata": {},
   "outputs": [
    {
     "data": {
      "image/png": "[encoded data removed]",
      "text/plain": [
       "<Figure size 432x288 with 2 Axes>"
      ]
     },
     "metadata": {
      "needs_background": "light"
     },
     "output_type": "display_data"
    }
   ],
   "source": [
    "# Calculating Corr Matrix\n",
    "correlation_matrix = df.corr()\n",
    "\n",
    "# Making heatmap\n",
    "sns.heatmap(correlation_matrix, annot=True, cmap='coolwarm')\n",
    "plt.title('Heatmap of Correlation')\n",
    "plt.show()"
   ]
  },
  {
   "cell_type": "markdown",
   "id": "3f006e59",
   "metadata": {},
   "source": [
    "# Hypotesis Testing"
   ]
  },
  {
   "cell_type": "code",
   "execution_count": 59,
   "id": "d3ccdcce",
   "metadata": {},
   "outputs": [],
   "source": [
    "import statsmodels.api as sm"
   ]
  },
  {
   "cell_type": "code",
   "execution_count": 60,
   "id": "e66f913c",
   "metadata": {},
   "outputs": [
    {
     "name": "stdout",
     "output_type": "stream",
     "text": [
      "                            OLS Regression Results                            \n",
      "==============================================================================\n",
      "Dep. Variable:                    HDI   R-squared:                       0.391\n",
      "Model:                            OLS   Adj. R-squared:                  0.330\n",
      "Method:                 Least Squares   F-statistic:                     6.420\n",
      "Date:                Sun, 16 Apr 2023   Prob (F-statistic):            0.00172\n",
      "Time:                        16:16:43   Log-Likelihood:                -85.904\n",
      "No. Observations:                  34   AIC:                             179.8\n",
      "Df Residuals:                      30   BIC:                             185.9\n",
      "Df Model:                           3                                         \n",
      "Covariance Type:            nonrobust                                         \n",
      "=======================================================================================\n",
      "                          coef    std err          t      P>|t|      [0.025      0.975]\n",
      "---------------------------------------------------------------------------------------\n",
      "const                  47.7022     22.379      2.132      0.041       1.999      93.405\n",
      "Stunting Management     0.3685      0.084      4.371      0.000       0.196       0.541\n",
      "Poverty                -0.0005      0.001     -0.956      0.347      -0.002       0.001\n",
      "Happiness Index         0.0108      0.290      0.037      0.971      -0.582       0.604\n",
      "==============================================================================\n",
      "Omnibus:                        1.976   Durbin-Watson:                   1.375\n",
      "Prob(Omnibus):                  0.372   Jarque-Bera (JB):                1.150\n",
      "Skew:                          -0.437   Prob(JB):                        0.563\n",
      "Kurtosis:                       3.215   Cond. No.                     5.33e+04\n",
      "==============================================================================\n",
      "\n",
      "Notes:\n",
      "[1] Standard Errors assume that the covariance matrix of the errors is correctly specified.\n",
      "[2] The condition number is large, 5.33e+04. This might indicate that there are\n",
      "strong multicollinearity or other numerical problems.\n",
      "Koefisien Regresi Stunting Management: t-statistic = 4.370524371633702, p-value = 0.00013673695612793771\n",
      "Null hypothesis (H0) rejected, there is sufficient evidence to claim a relationship between stunting_management and HDI.\n"
     ]
    }
   ],
   "source": [
    "# Definition of predictor and response variables\n",
    "X = df[['Stunting Management', 'Poverty', 'Happiness Index']]\n",
    "y = df['HDI']\n",
    "\n",
    "# Adding a constant to the predictor variables\n",
    "X = sm.add_constant(X)\n",
    "\n",
    "# Building the multiple linear regression model\n",
    "model = sm.OLS(y, X).fit()\n",
    "\n",
    "# Displaying the model summary\n",
    "print(model.summary())\n",
    "\n",
    "# Hypothesis Testing\n",
    "\n",
    "# Hypothesis testing for the stunting_management regression coefficient\n",
    "hypothesis = 'Stunting Management = 0'\n",
    "t_test_results = model.t_test(hypothesis)\n",
    "t_stat = t_test_results.tvalue[0][0]\n",
    "p_value = t_test_results.pvalue  # Mengakses nilai p-value langsung tanpa indeks\n",
    "print(f\"Koefisien Regresi Stunting Management: t-statistic = {t_stat}, p-value = {p_value}\")\n",
    "\n",
    "if p_value < alpha:\n",
    "    print(\"Null hypothesis (H0) rejected, there is sufficient evidence to claim a relationship between stunting_management and HDI.\")\n",
    "else:\n",
    "    print(\"Insufficient evidence to claim a relationship between stunting_management and HDI.\")\n",
    "\n"
   ]
  },
  {
   "cell_type": "code",
   "execution_count": 62,
   "id": "83758079",
   "metadata": {},
   "outputs": [
    {
     "name": "stdout",
     "output_type": "stream",
     "text": [
      "Regression Coefficient for Poverty: t-statistic = -0.9561867706905068, p-value = 0.34662026425877646\n",
      "Regression Coefficient for Happiness Index: t-statistic = 0.037175711042238956, p-value = 0.9705911842950771\n",
      "Insufficient evidence to claim a relationship between Poverty and HDI.\n",
      "Insufficient evidence to claim a relationship between Happiness Index and HDI.\n"
     ]
    }
   ],
   "source": [
    "# Hypothesis testing for Poverty regression coefficient\n",
    "hypothesis_poverty = 'Poverty = 0'\n",
    "t_test_results_poverty = model.t_test(hypothesis_poverty)\n",
    "t_stat_poverty = t_test_results_poverty.tvalue[0][0]\n",
    "p_value_poverty = t_test_results_poverty.pvalue\n",
    "print(f\"Regression Coefficient for Poverty: t-statistic = {t_stat_poverty}, p-value = {p_value_poverty}\")\n",
    "\n",
    "# Hypothesis testing for Happiness Index regression coefficient\n",
    "hypothesis_happiness = 'Happiness Index = 0'\n",
    "t_test_results_happiness = model.t_test(hypothesis_happiness)\n",
    "t_stat_happiness = t_test_results_happiness.tvalue[0][0]\n",
    "p_value_happiness = t_test_results_happiness.pvalue\n",
    "print(f\"Regression Coefficient for Happiness Index: t-statistic = {t_stat_happiness}, p-value = {p_value_happiness}\")\n",
    "\n",
    "alpha = 0.05  # Set alpha level\n",
    "if p_value_poverty < alpha:\n",
    "    print(\"Null hypothesis (H0) related to Poverty variable is rejected, there is sufficient evidence to claim a relationship between Poverty and HDI.\")\n",
    "else:\n",
    "    print(\"Insufficient evidence to claim a relationship between Poverty and HDI.\")\n",
    "\n",
    "if p_value_happiness < alpha:\n",
    "    print(\"Null hypothesis (H0) related to Happiness Index variable is rejected, there is sufficient evidence to claim a relationship between Happiness Index and HDI.\")\n",
    "else:\n",
    "    print(\"Insufficient evidence to claim a relationship between Happiness Index and HDI.\")\n"
   ]
  },
  {
   "cell_type": "markdown",
   "id": "361c266f",
   "metadata": {},
   "source": [
    "## Building Regression Model"
   ]
  },
  {
   "cell_type": "code",
   "execution_count": 63,
   "id": "8db2ff06",
   "metadata": {},
   "outputs": [
    {
     "name": "stdout",
     "output_type": "stream",
     "text": [
      "Linear Regression Model with Single Predictor:\n",
      "                 Results: Ordinary least squares\n",
      "==================================================================\n",
      "Model:               OLS              Adj. R-squared:     0.350   \n",
      "Dependent Variable:  HDI              AIC:                177.0002\n",
      "Date:                2023-04-16 16:26 BIC:                180.0529\n",
      "No. Observations:    34               Log-Likelihood:     -86.500 \n",
      "Df Model:            1                F-statistic:        18.73   \n",
      "Df Residuals:        32               Prob (F-statistic): 0.000138\n",
      "R-squared:           0.369            Scale:              10.084  \n",
      "------------------------------------------------------------------\n",
      "                     Coef.  Std.Err.   t    P>|t|   [0.025  0.975]\n",
      "------------------------------------------------------------------\n",
      "const               49.4429   5.0933 9.7075 0.0000 39.0683 59.8176\n",
      "Stunting Management  0.3468   0.0801 4.3282 0.0001  0.1836  0.5099\n",
      "------------------------------------------------------------------\n",
      "Omnibus:              0.796         Durbin-Watson:           1.515\n",
      "Prob(Omnibus):        0.672         Jarque-Bera (JB):        0.368\n",
      "Skew:                 -0.253        Prob(JB):                0.832\n",
      "Kurtosis:             3.054         Condition No.:           595  \n",
      "==================================================================\n",
      "\n"
     ]
    },
    {
     "data": {
      "image/png": "[encoded data removed]",
      "text/plain": [
       "<Figure size 432x288 with 1 Axes>"
      ]
     },
     "metadata": {
      "needs_background": "light"
     },
     "output_type": "display_data"
    }
   ],
   "source": [
    "# 1. Fit linear regression with single predictor\n",
    "# Choose one predictor variable as the target\n",
    "X_single = df['Stunting Management']\n",
    "y = df['HDI']\n",
    "\n",
    "# Add constant to the predictor variable\n",
    "X_single = sm.add_constant(X_single)\n",
    "\n",
    "# Build linear regression model with single predictor\n",
    "model_single = sm.OLS(y, X_single).fit()\n",
    "\n",
    "# Display model summary\n",
    "print(\"Linear Regression Model with Single Predictor:\")\n",
    "print(model_single.summary2())\n",
    "\n",
    "# Plot data and regression line\n",
    "sns.scatterplot(x='Stunting Management', y='HDI', data=df)\n",
    "plt.plot(X_single['Stunting Management'], model_single.predict(X_single), color='r')\n",
    "plt.xlabel('Stunting Management')\n",
    "plt.ylabel('HDI')\n",
    "plt.title('Linear Regression with Single Predictor')\n",
    "plt.show()"
   ]
  },
  {
   "cell_type": "code",
   "execution_count": 64,
   "id": "401d16d3",
   "metadata": {},
   "outputs": [
    {
     "name": "stdout",
     "output_type": "stream",
     "text": [
      "Linear Regression Model with Single Predictor (Poverty):\n",
      "                 Results: Ordinary least squares\n",
      "=================================================================\n",
      "Model:              OLS              Adj. R-squared:     -0.031  \n",
      "Dependent Variable: HDI              AIC:                192.6669\n",
      "Date:               2023-04-16 16:32 BIC:                195.7197\n",
      "No. Observations:   34               Log-Likelihood:     -94.333 \n",
      "Df Model:           1                F-statistic:        0.001850\n",
      "Df Residuals:       32               Prob (F-statistic): 0.966   \n",
      "R-squared:          0.000            Scale:              15.987  \n",
      "-------------------------------------------------------------------\n",
      "           Coef.    Std.Err.      t      P>|t|     [0.025    0.975]\n",
      "-------------------------------------------------------------------\n",
      "const     71.3399     0.8456   84.3664   0.0000   69.6175   73.0623\n",
      "Poverty    0.0000     0.0006    0.0430   0.9660   -0.0013    0.0013\n",
      "-----------------------------------------------------------------\n",
      "Omnibus:              3.557        Durbin-Watson:           0.984\n",
      "Prob(Omnibus):        0.169        Jarque-Bera (JB):        2.822\n",
      "Skew:                 0.033        Prob(JB):                0.244\n",
      "Kurtosis:             4.410        Condition No.:           1622 \n",
      "=================================================================\n",
      "* The condition number is large (2e+03). This might indicate\n",
      "strong multicollinearity or other numerical problems.\n"
     ]
    },
    {
     "data": {
      "image/png": "[encoded data removed]",
      "text/plain": [
       "<Figure size 432x288 with 1 Axes>"
      ]
     },
     "metadata": {
      "needs_background": "light"
     },
     "output_type": "display_data"
    }
   ],
   "source": [
    "# Choose one predictor variable as the target\n",
    "X_single_poverty = df['Poverty']\n",
    "X_single_happiness = df['Happiness Index']\n",
    "y = df['HDI']\n",
    "\n",
    "# Add constant to the predictor variable\n",
    "X_single_poverty = sm.add_constant(X_single_poverty)\n",
    "X_single_happiness = sm.add_constant(X_single_happiness)\n",
    "\n",
    "# Build linear regression model with single predictor (Poverty)\n",
    "model_single_poverty = sm.OLS(y, X_single_poverty).fit()\n",
    "\n",
    "# Display model summary (Poverty)\n",
    "print(\"Linear Regression Model with Single Predictor (Poverty):\")\n",
    "print(model_single_poverty.summary2())\n",
    "\n",
    "# Plot data and regression line (Poverty)\n",
    "sns.scatterplot(x='Poverty', y='HDI', data=df)\n",
    "plt.plot(X_single_poverty['Poverty'], model_single_poverty.predict(X_single_poverty), color='r')\n",
    "plt.xlabel('Poverty')\n",
    "plt.ylabel('HDI')\n",
    "plt.title('Linear Regression with Single Predictor (Poverty)')\n",
    "plt.show()"
   ]
  },
  {
   "cell_type": "code",
   "execution_count": 65,
   "id": "3cedf553",
   "metadata": {},
   "outputs": [
    {
     "name": "stdout",
     "output_type": "stream",
     "text": [
      "Linear Regression Model with Single Predictor (Happiness Index):\n",
      "                 Results: Ordinary least squares\n",
      "=================================================================\n",
      "Model:              OLS              Adj. R-squared:     -0.028  \n",
      "Dependent Variable: HDI              AIC:                192.5658\n",
      "Date:               2023-04-16 16:34 BIC:                195.6185\n",
      "No. Observations:   34               Log-Likelihood:     -94.283 \n",
      "Df Model:           1                F-statistic:        0.09719 \n",
      "Df Residuals:       32               Prob (F-statistic): 0.757   \n",
      "R-squared:          0.003            Scale:              15.939  \n",
      "-----------------------------------------------------------------\n",
      "                  Coef.  Std.Err.    t    P>|t|   [0.025  0.975] \n",
      "-----------------------------------------------------------------\n",
      "const            78.8614  24.0676  3.2767 0.0025 29.8373 127.8855\n",
      "Happiness Index  -0.1033   0.3313 -0.3118 0.7572 -0.7782   0.5716\n",
      "-----------------------------------------------------------------\n",
      "Omnibus:               3.818        Durbin-Watson:          0.988\n",
      "Prob(Omnibus):         0.148        Jarque-Bera (JB):       3.222\n",
      "Skew:                  -0.051       Prob(JB):               0.200\n",
      "Kurtosis:              4.505        Condition No.:          2554 \n",
      "=================================================================\n",
      "* The condition number is large (3e+03). This might indicate\n",
      "strong multicollinearity or other numerical problems.\n"
     ]
    },
    {
     "data": {
      "image/png": "[encoded data removed]",
      "text/plain": [
       "<Figure size 432x288 with 1 Axes>"
      ]
     },
     "metadata": {
      "needs_background": "light"
     },
     "output_type": "display_data"
    }
   ],
   "source": [
    "# Build linear regression model with single predictor (Happiness Index)\n",
    "model_single_happiness = sm.OLS(y, X_single_happiness).fit()\n",
    "\n",
    "# Display model summary (Happiness Index)\n",
    "print(\"Linear Regression Model with Single Predictor (Happiness Index):\")\n",
    "print(model_single_happiness.summary2())\n",
    "\n",
    "# Plot data and regression line (Happiness Index)\n",
    "sns.scatterplot(x='Happiness Index', y='HDI', data=df)\n",
    "plt.plot(X_single_happiness['Happiness Index'], model_single_happiness.predict(X_single_happiness), color='r')\n",
    "plt.xlabel('Happiness Index')\n",
    "plt.ylabel('HDI')\n",
    "plt.title('Linear Regression with Single Predictor (Happiness Index)')\n",
    "plt.show()"
   ]
  },
  {
   "cell_type": "code",
   "execution_count": 66,
   "id": "87af5179",
   "metadata": {},
   "outputs": [
    {
     "name": "stdout",
     "output_type": "stream",
     "text": [
      "Linear Regression Model with Multiple Predictors and Interaction:\n",
      "                             Results: Ordinary least squares\n",
      "=========================================================================================\n",
      "Model:                      OLS                      Adj. R-squared:             0.308   \n",
      "Dependent Variable:         HDI                      AIC:                        181.7501\n",
      "Date:                       2023-04-16 16:38         BIC:                        189.3819\n",
      "No. Observations:           34                       Log-Likelihood:             -85.875 \n",
      "Df Model:                   4                        F-statistic:                4.675   \n",
      "Df Residuals:               29                       Prob (F-statistic):         0.00491 \n",
      "R-squared:                  0.392                    Scale:                      10.726  \n",
      "-----------------------------------------------------------------------------------------\n",
      "                                         Coef.  Std.Err.    t    P>|t|   [0.025   0.975] \n",
      "-----------------------------------------------------------------------------------------\n",
      "const                                   52.6283  31.8387  1.6530 0.1091 -12.4892 117.7459\n",
      "Stunting Management                      0.3423   0.1465  2.3364 0.0266   0.0427   0.6419\n",
      "Poverty                                 -0.0032   0.0121 -0.2661 0.7920  -0.0279   0.0214\n",
      "Happiness Index                         -0.0328   0.3547 -0.0924 0.9270  -0.7582   0.6927\n",
      "Stunting Management_Poverty_Interaction  0.0000   0.0002  0.2211 0.8266  -0.0003   0.0004\n",
      "-----------------------------------------------------------------------------------------\n",
      "Omnibus:                     1.890                Durbin-Watson:                  1.370  \n",
      "Prob(Omnibus):               0.389                Jarque-Bera (JB):               1.082  \n",
      "Skew:                        -0.424               Prob(JB):                       0.582  \n",
      "Kurtosis:                    3.211                Condition No.:                  5081330\n",
      "=========================================================================================\n",
      "* The condition number is large (5e+06). This might indicate             strong\n",
      "multicollinearity or other numerical problems.\n"
     ]
    }
   ],
   "source": [
    "# 2. Include multiple predictors and at least one interaction term\n",
    "# Select multiple predictor variables and add interaction if needed\n",
    "X_multiple = df[['Stunting Management', 'Poverty', 'Happiness Index']]\n",
    "X_multiple['Stunting Management_Poverty_Interaction'] = X_multiple['Stunting Management'] * X_multiple['Poverty']\n",
    "\n",
    "# Add constant to predictor variables\n",
    "X_multiple = sm.add_constant(X_multiple)\n",
    "\n",
    "# Build linear regression model with multiple predictors and interaction\n",
    "model_multiple = sm.OLS(y, X_multiple).fit()\n",
    "\n",
    "# Display model summary\n",
    "print(\"Linear Regression Model with Multiple Predictors and Interaction:\")\n",
    "print(model_multiple.summary2())"
   ]
  },
  {
   "cell_type": "code",
   "execution_count": 67,
   "id": "8ccd5392",
   "metadata": {},
   "outputs": [
    {
     "name": "stdout",
     "output_type": "stream",
     "text": [
      "Linear Regression Model with Transformed Predictors:\n",
      "                       Results: Ordinary least squares\n",
      "=============================================================================\n",
      "Model:                  OLS                  Adj. R-squared:         0.311   \n",
      "Dependent Variable:     HDI                  AIC:                    181.6259\n",
      "Date:                   2023-04-16 16:41     BIC:                    189.2577\n",
      "No. Observations:       34                   Log-Likelihood:         -85.813 \n",
      "Df Model:               4                    F-statistic:            4.718   \n",
      "Df Residuals:           29                   Prob (F-statistic):     0.00468 \n",
      "R-squared:              0.394                Scale:                  10.687  \n",
      "-----------------------------------------------------------------------------\n",
      "                             Coef.  Std.Err.    t    P>|t|   [0.025   0.975] \n",
      "-----------------------------------------------------------------------------\n",
      "const                       39.7887  30.3115  1.3127 0.1996 -22.2053 101.7827\n",
      "Stunting Management          0.6866   0.8117  0.8458 0.4046  -0.9736   2.3467\n",
      "Poverty                     -0.0005   0.0006 -0.9246 0.3628  -0.0017   0.0006\n",
      "Happiness Index             -0.0120   0.3000 -0.0398 0.9685  -0.6256   0.6017\n",
      "Stunting_Management_Squared -0.0026   0.0066 -0.3940 0.6965  -0.0162   0.0109\n",
      "-----------------------------------------------------------------------------\n",
      "Omnibus:                  1.926            Durbin-Watson:              1.430 \n",
      "Prob(Omnibus):            0.382            Jarque-Bera (JB):           1.053 \n",
      "Skew:                     -0.409           Prob(JB):                   0.591 \n",
      "Kurtosis:                 3.274            Condition No.:              227776\n",
      "=============================================================================\n",
      "* The condition number is large (2e+05). This might indicate\n",
      "strong multicollinearity or other numerical problems.\n",
      "Comparison between Model without Transformation and Model with Transformation:\n",
      "(0.4225559473166868, nan, -3.0)\n"
     ]
    }
   ],
   "source": [
    "# 3. Fit linear regression with transformations\n",
    "# Choose the desired transformation for predictor variables\n",
    "X_transformed = df[['Stunting Management', 'Poverty', 'Happiness Index']]\n",
    "X_transformed['Stunting_Management_Squared'] = np.square(X_transformed['Stunting Management'])\n",
    "\n",
    "# Add constant to predictor variables\n",
    "X_transformed = sm.add_constant(X_transformed)\n",
    "\n",
    "# Build linear regression model with transformed predictors\n",
    "model_transformed = sm.OLS(y, X_transformed).fit()\n",
    "\n",
    "# Display model summary\n",
    "print(\"Linear Regression Model with Transformed Predictors:\")\n",
    "print(model_transformed.summary2())\n",
    "\n",
    "# Compare model with and without transformations\n",
    "print(\"Comparison between Model without Transformation and Model with Transformation:\")\n",
    "print(model_single.compare_f_test(model_transformed))"
   ]
  },
  {
   "cell_type": "code",
   "execution_count": null,
   "id": "f18ecbe6",
   "metadata": {},
   "outputs": [],
   "source": []
  },
  {
   "cell_type": "code",
   "execution_count": null,
   "id": "0c3aa6e2",
   "metadata": {},
   "outputs": [],
   "source": []
  },
  {
   "cell_type": "code",
   "execution_count": null,
   "id": "83faaebc",
   "metadata": {},
   "outputs": [],
   "source": []
  },
  {
   "cell_type": "code",
   "execution_count": null,
   "id": "ec79b47f",
   "metadata": {},
   "outputs": [],
   "source": []
  },
  {
   "cell_type": "code",
   "execution_count": null,
   "id": "f43f07fc",
   "metadata": {},
   "outputs": [],
   "source": []
  },
  {
   "cell_type": "code",
   "execution_count": null,
   "id": "9df6e901",
   "metadata": {},
   "outputs": [],
   "source": []
  },
  {
   "cell_type": "code",
   "execution_count": null,
   "id": "98e8ae67",
   "metadata": {},
   "outputs": [],
   "source": []
  }
 ],
 "metadata": {
  "kernelspec": {
   "display_name": "Python 3 (ipykernel)",
   "language": "python",
   "name": "python3"
  },
  "language_info": {
   "codemirror_mode": {
    "name": "ipython",
    "version": 3
   },
   "file_extension": ".py",
   "mimetype": "text/x-python",
   "name": "python",
   "nbconvert_exporter": "python",
   "pygments_lexer": "ipython3",
   "version": "3.9.12"
  }
 },
 "nbformat": 4,
 "nbformat_minor": 5
}
